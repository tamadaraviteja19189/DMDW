{
 "cells": [
  {
   "cell_type": "code",
   "execution_count": 6,
   "id": "191ca794",
   "metadata": {},
   "outputs": [],
   "source": [
    "from collections import defaultdict\n",
    "transactions = [\n",
    "    ['M', 'O', 'N', 'K', 'E', 'Y'],\n",
    "    ['D', 'O', 'N', 'K', 'E', 'Y'],\n",
    "    ['M', 'A', 'K', 'E'],\n",
    "    ['M', 'U', 'C', 'K', 'Y'],\n",
    "    ['C', 'O', 'O', 'K', 'I', 'E']\n",
    "]"
   ]
  },
  {
   "cell_type": "code",
   "execution_count": 7,
   "id": "c0d66728",
   "metadata": {},
   "outputs": [],
   "source": [
    "#finding frequent items\n",
    "min_support = 3\n",
    "\n",
    "item_counts = defaultdict(int)\n",
    "for transaction in transactions:\n",
    "    for item in transaction:\n",
    "        item_counts[item] += 1\n",
    "\n",
    "frequent_1_itemsets = {item: count for item, count in item_counts.items() if count >= min_support}\n",
    "\n",
    "frequent_itemsets = [list(frequent_1_itemsets.keys())]\n",
    "\n",
    "k = 2  # Start with 2-itemsets\n",
    "while True:\n",
    "    candidate_itemsets = []\n",
    "    for i in range(len(frequent_itemsets[-1])):\n",
    "        for j in range(i + 1, len(frequent_itemsets[-1])):\n",
    "            itemset1 = frequent_itemsets[-1][i]\n",
    "            itemset2 = frequent_itemsets[-1][j]\n",
    "            candidate = sorted(list(set(itemset1) | set(itemset2)))\n",
    "            if len(candidate) == k and candidate not in candidate_itemsets:\n",
    "                candidate_itemsets.append(candidate)\n",
    "\n",
    "    \n",
    "    candidate_counts = defaultdict(int)\n",
    "    for transaction in transactions:\n",
    "        for candidate in candidate_itemsets:\n",
    "            if set(candidate).issubset(set(transaction)):\n",
    "                candidate_counts[tuple(candidate)] += 1\n",
    "\n",
    "    \n",
    "    frequent_k_itemsets = [list(candidate) for candidate, count in candidate_counts.items() if count >= min_support]\n",
    "\n",
    "    if not frequent_k_itemsets:\n",
    "        break\n",
    "\n",
    "    frequent_itemsets.append(frequent_k_itemsets)\n",
    "    k += 1\n",
    "frequent_itemsets=frequent_itemsets[len(frequent_itemsets)-1]"
   ]
  },
  {
   "cell_type": "code",
   "execution_count": 8,
   "id": "0feb3838",
   "metadata": {},
   "outputs": [
    {
     "name": "stdout",
     "output_type": "stream",
     "text": [
      "\n",
      "Strong Association Rules:\n",
      "Rule: (O) => (E, K), Confidence: 1.00\n",
      "Rule: (E, O) => (K), Confidence: 1.00\n",
      "Rule: (K, O) => (E), Confidence: 1.00\n"
     ]
    }
   ],
   "source": [
    "import itertools\n",
    "def generate_association_rules(frequent_itemsets, min_confidence):\n",
    "    association_rules = []\n",
    "    \n",
    "    for itemset in frequent_itemsets:\n",
    "        if len(itemset) >= 2:\n",
    "           \n",
    "            for i in range(1, len(itemset)):\n",
    "                antecedent_combinations = itertools.combinations(itemset, i)\n",
    "                for antecedent in antecedent_combinations:\n",
    "                    consequent = tuple(item for item in itemset if item not in antecedent)\n",
    "                    \n",
    "                    itemset_support = sum(1 for transaction in transactions if set(itemset).issubset(set(transaction)))\n",
    "                    \n",
    "                    antecedent_support = sum(1 for transaction in transactions if set(antecedent).issubset(set(transaction)))\n",
    "                    \n",
    "                    confidence = itemset_support / antecedent_support if antecedent_support != 0 else 0\n",
    "                    \n",
    "                    if confidence >= min_confidence:\n",
    "                        association_rules.append((antecedent, consequent, confidence))\n",
    "    \n",
    "    return association_rules\n",
    "\n",
    "association_rules = generate_association_rules(frequent_itemsets, 0.8)\n",
    "print(\"\\nStrong Association Rules:\")\n",
    "for rule in association_rules:\n",
    "    antecedent = \", \".join(rule[0])\n",
    "    consequent = \", \".join(rule[1])\n",
    "    confidence = rule[2]\n",
    "    print(f\"Rule: ({antecedent}) => ({consequent}), Confidence: {confidence:.2f}\")"
   ]
  },
  {
   "cell_type": "code",
   "execution_count": null,
   "id": "ed4a7a69",
   "metadata": {},
   "outputs": [],
   "source": []
  }
 ],
 "metadata": {
  "kernelspec": {
   "display_name": "Python 3 (ipykernel)",
   "language": "python",
   "name": "python3"
  },
  "language_info": {
   "codemirror_mode": {
    "name": "ipython",
    "version": 3
   },
   "file_extension": ".py",
   "mimetype": "text/x-python",
   "name": "python",
   "nbconvert_exporter": "python",
   "pygments_lexer": "ipython3",
   "version": "3.11.3"
  }
 },
 "nbformat": 4,
 "nbformat_minor": 5
}
