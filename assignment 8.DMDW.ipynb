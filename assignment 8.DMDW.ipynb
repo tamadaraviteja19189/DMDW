{
 "cells": [
  {
   "cell_type": "code",
   "execution_count": 1,
   "id": "415de738",
   "metadata": {},
   "outputs": [],
   "source": [
    "import math"
   ]
  },
  {
   "cell_type": "code",
   "execution_count": 2,
   "id": "401e8da0",
   "metadata": {},
   "outputs": [],
   "source": [
    "def euclidean_distance(point1, point2):\n",
    "    distance = 0\n",
    "    for i in range(len(point1) - 1):\n",
    "        distance += (point1[i] - point2[i]) ** 2\n",
    "    return math.sqrt(distance)"
   ]
  },
  {
   "cell_type": "code",
   "execution_count": 3,
   "id": "212ad4cb",
   "metadata": {},
   "outputs": [],
   "source": [
    "def get_neighbors(train, test, k):\n",
    "    distances = []\n",
    "    for train_row in train:\n",
    "        dist = euclidean_distance(test, train_row)\n",
    "        distances.append((train_row, dist))\n",
    "    distances.sort(key=lambda x: x[1])\n",
    "    neighbors = [dist[0] for dist in distances[:k]]\n",
    "    return neighbors\n"
   ]
  },
  {
   "cell_type": "code",
   "execution_count": 4,
   "id": "53ecc940",
   "metadata": {},
   "outputs": [],
   "source": [
    "def predict_class(neighbors):\n",
    "    class_votes = {}\n",
    "    for neighbor in neighbors:\n",
    "        class_label = neighbor[-1]\n",
    "        if class_label in class_votes:\n",
    "            class_votes[class_label] += 1\n",
    "        else:\n",
    "            class_votes[class_label] = 1\n",
    "    sorted_votes = sorted(class_votes.items(), key=lambda x: x[1], reverse=True)\n",
    "    return sorted_votes[0][0]"
   ]
  },
  {
   "cell_type": "code",
   "execution_count": 5,
   "id": "d6724261",
   "metadata": {},
   "outputs": [],
   "source": [
    "def load_dataset(filename):\n",
    "    dataset = []\n",
    "    with open(filename, 'r') as file:\n",
    "        lines = file.readlines()\n",
    "        \n",
    "        lines = lines[1:]\n",
    "        for line in lines:\n",
    "            \n",
    "            line = line.strip()\n",
    "            if not line:\n",
    "                continue\n",
    "            row = line.split(',')\n",
    "            if len(row) == 4:  \n",
    "                dataset.append([float(row[0]), float(row[1]), float(row[2]), row[3]])\n",
    "    return dataset"
   ]
  },
  {
   "cell_type": "code",
   "execution_count": 17,
   "id": "7b1d00c8",
   "metadata": {},
   "outputs": [],
   "source": [
    "dataset = load_dataset('dmdw dataset.txt')\n",
    "test_point = [1.55, 70, 40]  \n",
    "k = 3;"
   ]
  },
  {
   "cell_type": "code",
   "execution_count": 18,
   "id": "4dffa6e3",
   "metadata": {},
   "outputs": [
    {
     "name": "stdout",
     "output_type": "stream",
     "text": [
      "The predicted class for the test point [1.55, 70, 40] is:  Scientist\n"
     ]
    }
   ],
   "source": [
    "neighbors = get_neighbors(dataset, test_point, k)\n",
    "prediction = predict_class(neighbors)\n",
    "print(f\"The predicted class for the test point {test_point} is: {prediction}\")"
   ]
  },
  {
   "cell_type": "code",
   "execution_count": null,
   "id": "16b822c9",
   "metadata": {},
   "outputs": [],
   "source": []
  }
 ],
 "metadata": {
  "kernelspec": {
   "display_name": "Python 3 (ipykernel)",
   "language": "python",
   "name": "python3"
  },
  "language_info": {
   "codemirror_mode": {
    "name": "ipython",
    "version": 3
   },
   "file_extension": ".py",
   "mimetype": "text/x-python",
   "name": "python",
   "nbconvert_exporter": "python",
   "pygments_lexer": "ipython3",
   "version": "3.11.3"
  }
 },
 "nbformat": 4,
 "nbformat_minor": 5
}
